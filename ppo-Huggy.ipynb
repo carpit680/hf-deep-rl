{
 "cells": [
  {
   "cell_type": "code",
   "execution_count": null,
   "metadata": {},
   "outputs": [],
   "source": [
    "%%capture\n",
    "# Clone the repository (can take 3min)\n",
    "!git clone --depth 1 https://github.com/Unity-Technologies/ml-agents"
   ]
  },
  {
   "cell_type": "code",
   "execution_count": null,
   "metadata": {},
   "outputs": [],
   "source": [
    "%%capture\n",
    "# Go inside the repository and install the package (can take 3min)\n",
    "%cd ml-agents\n",
    "!pip3 install -e ./ml-agents-envs\n",
    "!pip3 install -e ./ml-agents"
   ]
  },
  {
   "cell_type": "code",
   "execution_count": null,
   "metadata": {},
   "outputs": [],
   "source": [
    "!mkdir ./trained-envs-executables\n",
    "!mkdir ./trained-envs-executables/linux"
   ]
  },
  {
   "cell_type": "code",
   "execution_count": null,
   "metadata": {},
   "outputs": [],
   "source": [
    "!wget \"https://github.com/huggingface/Huggy/raw/main/Huggy.zip\" -O ./trained-envs-executables/linux/Huggy.zip"
   ]
  },
  {
   "cell_type": "code",
   "execution_count": null,
   "metadata": {},
   "outputs": [],
   "source": [
    "%%capture\n",
    "!unzip -d ./trained-envs-executables/linux/ ./trained-envs-executables/linux/Huggy.zip"
   ]
  },
  {
   "cell_type": "code",
   "execution_count": null,
   "metadata": {},
   "outputs": [],
   "source": [
    "!chmod -R 755 ./trained-envs-executables/linux/Huggy"
   ]
  },
  {
   "cell_type": "code",
   "execution_count": null,
   "metadata": {},
   "outputs": [],
   "source": [
    "!touch ./config/ppo/Huggy.yaml\n",
    "import yaml\n",
    "\n",
    "data = {\n",
    "    'behaviors': {\n",
    "        'Huggy': {\n",
    "            'trainer_type': 'ppo',\n",
    "            'hyperparameters': {\n",
    "                'batch_size': 4096,\n",
    "                'buffer_size': 20480,\n",
    "                'learning_rate': 0.0003,\n",
    "                'beta': 0.005,\n",
    "                'epsilon': 0.2,\n",
    "                'lambd': 0.95,\n",
    "                'num_epoch': 10,\n",
    "                'learning_rate_schedule': 'linear',\n",
    "            },\n",
    "            'network_settings': {\n",
    "                'normalize': True,\n",
    "                'hidden_units': 512,\n",
    "                'num_layers': 3,\n",
    "                'vis_encode_type': 'simple',\n",
    "            },\n",
    "            'reward_signals': {\n",
    "                'extrinsic': {\n",
    "                    'gamma': 0.995,\n",
    "                    'strength': 1.0,\n",
    "                },\n",
    "            },\n",
    "            'checkpoint_interval': 200000,\n",
    "            'keep_checkpoints': 15,\n",
    "            'max_steps': 2e6,\n",
    "            'time_horizon': 1000,\n",
    "            'summary_freq': 50000,\n",
    "        },\n",
    "    },\n",
    "}\n",
    "\n",
    "with open('config/ppo/Huggy.yaml', 'w') as file:\n",
    "    yaml.dump(data, file, default_flow_style=False)"
   ]
  },
  {
   "cell_type": "code",
   "execution_count": null,
   "metadata": {},
   "outputs": [],
   "source": [
    "!mlagents-learn ./config/ppo/Huggy.yaml --env=./trained-envs-executables/linux/Huggy/Huggy --run-id=\"Huggy2\" --no-graphics"
   ]
  },
  {
   "cell_type": "code",
   "execution_count": null,
   "metadata": {},
   "outputs": [],
   "source": [
    "# TODO: Get an access token from HF for write access to your account\n",
    "from huggingface_hub import notebook_login\n",
    "notebook_login()"
   ]
  },
  {
   "cell_type": "code",
   "execution_count": null,
   "metadata": {},
   "outputs": [],
   "source": [
    "!mlagents-push-to-hf --run-id=\"HuggyTraining\" --local-dir=\"./results/Huggy2\" --repo-id=\"carpit680/ppo-Huggy\" --commit-message=\"Huggy\""
   ]
  },
  {
   "cell_type": "code",
   "execution_count": null,
   "metadata": {},
   "outputs": [],
   "source": [
    "## Play with your Huggy 🐕\n",
    "\n",
    "This step is the simplest:\n",
    "\n",
    "- Open the game Huggy in your browser: https://huggingface.co/spaces/ThomasSimonini/Huggy\n",
    "\n",
    "- Click on Play with my Huggy model\n",
    "\n",
    "<img src=\"https://huggingface.co/datasets/huggingface-deep-rl-course/course-images/resolve/main/en/notebooks/unit-bonus1/load-huggy.jpg\" alt=\"load-huggy\" width=\"100%\">"
   ]
  }
 ],
 "metadata": {
  "language_info": {
   "name": "python"
  }
 },
 "nbformat": 4,
 "nbformat_minor": 2
}
